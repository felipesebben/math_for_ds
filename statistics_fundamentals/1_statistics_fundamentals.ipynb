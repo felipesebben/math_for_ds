{
 "cells": [
  {
   "cell_type": "markdown",
   "metadata": {},
   "source": [
    "<h1>Python Statistics Fundamentals: How to Describe Your Data</h1>\n",
    "\n",
    "<h2><b>1.Introduction</b></h2>\n",
    "<p>In this notebook, I'll be taking notes from Real Python's lesson on the <b>fundamentals of statistics</b>. If you are interested, follow this <a href='https://realpython.com/python-statistics/'>link</a> to get the entire content. Thanks once again for the whole Real Python team - specially, in this case, <a href='https://realpython.com/team/mstojiljkovic/'>Mirko Stojiljković</a> for this course!</p>\n",
    "<p>This notebook will cover the following <b>objectives</b>:</p>\n",
    "<ul>\n",
    "    <li>What numerical quantities you can use to describe and summarize your datasets</li>\n",
    "    <li>How to calculate descriptive statistics in pure Python</li>\n",
    "    <li>How to get descriptive statistics with available Python libraries</li>\n",
    "    <li>How to visualize your datasets</li>\n",
    "</ul>"
   ]
  },
  {
   "cell_type": "markdown",
   "metadata": {},
   "source": [
    "<h2>"
   ]
  },
  {
   "cell_type": "markdown",
   "metadata": {},
   "source": [
    "<h2><b>2.Understanding Descriptive Statistics</b></h2>\n",
    "<p>The term <b>descriptive statistics</b> refers to the process of <b>describing</b> and <b>summarizing</b> data. It can use <b>two main approaches</b>:</p>\n",
    "<ol>\n",
    "    <li><b>Quantitative approach</b> - describes data numerically.</li>\n",
    "    <li><b>Visual approach</b> - describes data with the assistance of data visualization tools (charts, histograms, plots, etc).</li>\n",
    "</ol>\n",
    "<p>When you describe a <b>single variable</b>, you're conducting a <b>univariate analysis</b>. When two variables are chosen to verify a statistical relationship, you are performing a <b>bivariate analysis</b>. Finally, <b>multivariate analysis</b> considers multiple variables.</p>\n"
   ]
  },
  {
   "cell_type": "markdown",
   "metadata": {},
   "source": [
    "<h3><b>2.1 Types of Measures</b></h3>\n",
    "<ol>\n",
    "    <li><b>Central tendency</b> - describes the center of the data. Some of the measures include: <b>mean, mode, and median</b>.</li>\n",
    "    <li><b>Variability</b> - describes the <b>spread</b> of the data. <b>Variance</b> and <b>standard deviation</b> represent useful measures.</li>\n",
    "    <li><b>Correlation</b> or <b>joint variability</b> - tells you about the <b>relation</b> between a pair of variables in a dataset, in which <b>covariance</b> and the <b>correlation coefficient</b> are useful measures.</li>"
   ]
  },
  {
   "cell_type": "markdown",
   "metadata": {},
   "source": [
    "<h3><b>2.2 Populations and Samples</b></h3>\n",
    "<p>A <b>sample</b> constitutes a <b>subset of a population</b> and, ideally, should preserve the fundamental <b>features</b> of the population.</p>\n",
    "\n",
    "<h3><b>2.3 Outliers</b></h3>\n",
    "<p>An <b>outlier</b> is a data point that <b>significantly differs</b> from the majority of the data taken from a sample or a population. <b>Natural variation</b> in data, <b>change</b> in the behavior of the observed system, and <b>errors</b> during the process of data collection are some of the most frequent reasons for outliers, although you must always rely on <b>experience</b> to properly identify them.</p>"
   ]
  },
  {
   "cell_type": "markdown",
   "metadata": {},
   "source": [
    "<h2><b>3. Python Statistics Libraries</b></h2>\n",
    "<p>We'll be using the following libraries:</p>\n",
    "<ul>\n",
    "    <li><code>statistics</code></li>\n",
    "    <li><code>NumPy</code></li>\n",
    "    <li><code>SciPy</code></li>\n",
    "    <li><code>Pandas</code></li>\n",
    "    <li><code>Matplotlib</code></li>\n",
    "</ul>\n",
    "<hr>\n",
    "<h2><b>4. Calculating Descriptive Statistics</b></h2>\n",
    "<p>Let's import all the necessary packages:</p>"
   ]
  },
  {
   "cell_type": "code",
   "execution_count": 39,
   "metadata": {},
   "outputs": [],
   "source": [
    "import math\n",
    "import statistics\n",
    "import numpy as np\n",
    "import pandas as pd\n",
    "import scipy.stats"
   ]
  },
  {
   "cell_type": "markdown",
   "metadata": {},
   "source": [
    "<p>Let's now create some data:</p>"
   ]
  },
  {
   "cell_type": "code",
   "execution_count": 40,
   "metadata": {},
   "outputs": [],
   "source": [
    "x = [8.0, 1, 2.5, 4, 28.0]\n",
    "x_with_nan = [8.0, 1, 2.5, math.nan, 4, 28.0] # You can also use float('nan') and np.nan"
   ]
  },
  {
   "cell_type": "code",
   "execution_count": 41,
   "metadata": {},
   "outputs": [
    {
     "data": {
      "text/plain": [
       "[8.0, 1, 2.5, 4, 28.0]"
      ]
     },
     "execution_count": 41,
     "metadata": {},
     "output_type": "execute_result"
    }
   ],
   "source": [
    "x"
   ]
  },
  {
   "cell_type": "code",
   "execution_count": 42,
   "metadata": {},
   "outputs": [
    {
     "data": {
      "text/plain": [
       "[8.0, 1, 2.5, nan, 4, 28.0]"
      ]
     },
     "execution_count": 42,
     "metadata": {},
     "output_type": "execute_result"
    }
   ],
   "source": [
    "x_with_nan"
   ]
  },
  {
   "cell_type": "markdown",
   "metadata": {},
   "source": [
    "<p>Let's now create <code>np.ndarray</code> and <code>pd.Series</code> objects corresponding  to <code>x</code> and <code>x_with_nan</code>:</p>"
   ]
  },
  {
   "cell_type": "code",
   "execution_count": 43,
   "metadata": {},
   "outputs": [],
   "source": [
    "y, y_with_nan = np.array(x), np.array(x_with_nan)\n",
    "z, z_with_nan = pd.Series(x), pd.Series(x_with_nan)"
   ]
  },
  {
   "cell_type": "code",
   "execution_count": 44,
   "metadata": {},
   "outputs": [
    {
     "data": {
      "text/plain": [
       "array([ 8. ,  1. ,  2.5,  4. , 28. ])"
      ]
     },
     "execution_count": 44,
     "metadata": {},
     "output_type": "execute_result"
    }
   ],
   "source": [
    "y"
   ]
  },
  {
   "cell_type": "code",
   "execution_count": 45,
   "metadata": {},
   "outputs": [
    {
     "data": {
      "text/plain": [
       "array([ 8. ,  1. ,  2.5,  nan,  4. , 28. ])"
      ]
     },
     "execution_count": 45,
     "metadata": {},
     "output_type": "execute_result"
    }
   ],
   "source": [
    "y_with_nan"
   ]
  },
  {
   "cell_type": "code",
   "execution_count": 46,
   "metadata": {},
   "outputs": [
    {
     "data": {
      "text/plain": [
       "0     8.0\n",
       "1     1.0\n",
       "2     2.5\n",
       "3     4.0\n",
       "4    28.0\n",
       "dtype: float64"
      ]
     },
     "execution_count": 46,
     "metadata": {},
     "output_type": "execute_result"
    }
   ],
   "source": [
    "z"
   ]
  },
  {
   "cell_type": "code",
   "execution_count": 47,
   "metadata": {},
   "outputs": [
    {
     "data": {
      "text/plain": [
       "0     8.0\n",
       "1     1.0\n",
       "2     2.5\n",
       "3     NaN\n",
       "4     4.0\n",
       "5    28.0\n",
       "dtype: float64"
      ]
     },
     "execution_count": 47,
     "metadata": {},
     "output_type": "execute_result"
    }
   ],
   "source": [
    "z_with_nan"
   ]
  },
  {
   "cell_type": "markdown",
   "metadata": {},
   "source": [
    "<h3><b>4.1 Measures of Central Tendency</b></h3>\n",
    "<h4><b>4.1.1 Mean</b></h4>\n",
    "<p>It is expressed as <b>Σᵢ𝑥ᵢ/𝑛,</b>, that is, the <b>sum</b> of all elements <b>𝑥ᵢ</b> divided by the <b>number of items in the dataset</b>.</p>\n",
    "<p>In pure Python, you can apply the following methods:</p>"
   ]
  },
  {
   "cell_type": "code",
   "execution_count": 48,
   "metadata": {},
   "outputs": [
    {
     "data": {
      "text/plain": [
       "8.7"
      ]
     },
     "execution_count": 48,
     "metadata": {},
     "output_type": "execute_result"
    }
   ],
   "source": [
    "mean_ = sum(x) / len(x)\n",
    "mean_"
   ]
  },
  {
   "cell_type": "markdown",
   "metadata": {},
   "source": [
    "<p>You can also use Python's built-in <code>statistics</code> functions:"
   ]
  },
  {
   "cell_type": "code",
   "execution_count": 49,
   "metadata": {},
   "outputs": [
    {
     "data": {
      "text/plain": [
       "8.7"
      ]
     },
     "execution_count": 49,
     "metadata": {},
     "output_type": "execute_result"
    }
   ],
   "source": [
    "mean_ = statistics.mean(x)\n",
    "mean_"
   ]
  },
  {
   "cell_type": "code",
   "execution_count": 50,
   "metadata": {},
   "outputs": [
    {
     "data": {
      "text/plain": [
       "8.7"
      ]
     },
     "execution_count": 50,
     "metadata": {},
     "output_type": "execute_result"
    }
   ],
   "source": [
    "mean_ = statistics.fmean(x)\n",
    "mean_"
   ]
  },
  {
   "cell_type": "markdown",
   "metadata": {},
   "source": [
    "Although both <code>mean()</code> and <code>fmean()</code> produce the same result, the latter was later on introduced as a faster alternative, always returning a <b>floating-point</b> number. Keep in mind, however, that if there are <code>nan</code> values among your data, these functions will also return a <code>nan</code> value."
   ]
  },
  {
   "cell_type": "code",
   "execution_count": 51,
   "metadata": {},
   "outputs": [
    {
     "data": {
      "text/plain": [
       "nan"
      ]
     },
     "execution_count": 51,
     "metadata": {},
     "output_type": "execute_result"
    }
   ],
   "source": [
    "mean_ = statistics.mean(x_with_nan)\n",
    "mean_"
   ]
  },
  {
   "cell_type": "code",
   "execution_count": 52,
   "metadata": {},
   "outputs": [
    {
     "data": {
      "text/plain": [
       "nan"
      ]
     },
     "execution_count": 52,
     "metadata": {},
     "output_type": "execute_result"
    }
   ],
   "source": [
    "mean_ = statistics.fmean(x_with_nan)\n",
    "mean_"
   ]
  },
  {
   "cell_type": "markdown",
   "metadata": {},
   "source": [
    "You can also use Numpy to get the mean with <code>np.mean()</code>:"
   ]
  },
  {
   "cell_type": "code",
   "execution_count": 53,
   "metadata": {},
   "outputs": [
    {
     "data": {
      "text/plain": [
       "8.7"
      ]
     },
     "execution_count": 53,
     "metadata": {},
     "output_type": "execute_result"
    }
   ],
   "source": [
    "mean_ = np.mean(x)\n",
    "mean_"
   ]
  },
  {
   "cell_type": "markdown",
   "metadata": {},
   "source": [
    "NumPy's <code>mean()</code> function and the <code>mean</code> method deliver the same output, even when considering <code>nan</code> values. "
   ]
  },
  {
   "cell_type": "code",
   "execution_count": 54,
   "metadata": {},
   "outputs": [
    {
     "data": {
      "text/plain": [
       "nan"
      ]
     },
     "execution_count": 54,
     "metadata": {},
     "output_type": "execute_result"
    }
   ],
   "source": [
    "np.mean(y_with_nan)"
   ]
  },
  {
   "cell_type": "code",
   "execution_count": 55,
   "metadata": {},
   "outputs": [
    {
     "data": {
      "text/plain": [
       "nan"
      ]
     },
     "execution_count": 55,
     "metadata": {},
     "output_type": "execute_result"
    }
   ],
   "source": [
    "y_with_nan.mean()"
   ]
  },
  {
   "cell_type": "markdown",
   "metadata": {},
   "source": [
    "You can ignore these <code>nan</code> values with <code>np.nanmean()</code>:"
   ]
  },
  {
   "cell_type": "code",
   "execution_count": 56,
   "metadata": {},
   "outputs": [
    {
     "data": {
      "text/plain": [
       "8.7"
      ]
     },
     "execution_count": 56,
     "metadata": {},
     "output_type": "execute_result"
    }
   ],
   "source": [
    "np.nanmean(y_with_nan)"
   ]
  },
  {
   "cell_type": "markdown",
   "metadata": {},
   "source": [
    "Finally, <code>pd.Series</code> also have the method <code>.mean()</code>:"
   ]
  },
  {
   "cell_type": "code",
   "execution_count": 57,
   "metadata": {},
   "outputs": [
    {
     "data": {
      "text/plain": [
       "8.7"
      ]
     },
     "execution_count": 57,
     "metadata": {},
     "output_type": "execute_result"
    }
   ],
   "source": [
    "mean_ = z.mean()\n",
    "mean_"
   ]
  },
  {
   "cell_type": "markdown",
   "metadata": {},
   "source": [
    "Pandas' <code>mean()</code> function, however, automatically <b>ignore</b> <code>nan</code> values:"
   ]
  },
  {
   "cell_type": "code",
   "execution_count": 58,
   "metadata": {},
   "outputs": [
    {
     "data": {
      "text/plain": [
       "8.7"
      ]
     },
     "execution_count": 58,
     "metadata": {},
     "output_type": "execute_result"
    }
   ],
   "source": [
    "z_with_nan.mean()"
   ]
  },
  {
   "cell_type": "markdown",
   "metadata": {},
   "source": [
    "To change this behavior, you need to modify the optional parameter <code>skipna</code>:"
   ]
  },
  {
   "cell_type": "code",
   "execution_count": 59,
   "metadata": {},
   "outputs": [
    {
     "data": {
      "text/plain": [
       "nan"
      ]
     },
     "execution_count": 59,
     "metadata": {},
     "output_type": "execute_result"
    }
   ],
   "source": [
    "z_with_nan.mean(skipna=False)"
   ]
  },
  {
   "cell_type": "markdown",
   "metadata": {},
   "source": [
    "<h4><b>4.1.2 Weighted Mean</b></h4>\n",
    "<p>Also known as the <b>weighted average</b>, it is a generalization of the arithmetic mean, and allow you to define the relative contribution of each observation of the dataset to the result.</p>\n",
    "<p>For each data point <i>x<sub>i</sub></i> of the dataset <i>x</i>, where <i>i</i>=1,2,...,<i>n</i> and <i>n</i> is the number of items in <i>x</i>. Then, you multiply each observation with its corresponding weight, sum all the products, and then divide the resulting sum with the sum of weights <i>&Sigma;<sub>i</sub>(w<sub>i</sub>x<sub>i</sub>)/&Sigma;<sub>i</sub>w<sub>i</sub></i>.</p>\n",
    "<p>The weighted mean is a useful feature when dealing with a dataset that contains items that occur with given relative frequencies.</p>\n",
    "<p><b>Example</b>: set in which 20% of all items are equal to 2, 50% of the items are equal to 4, and the remaining 30%, to 8. We can calculate the weighted average as following:\n"
   ]
  },
  {
   "cell_type": "code",
   "execution_count": 60,
   "metadata": {},
   "outputs": [
    {
     "data": {
      "text/plain": [
       "4.8"
      ]
     },
     "execution_count": 60,
     "metadata": {},
     "output_type": "execute_result"
    }
   ],
   "source": [
    "0.2 * 2 + 0.5 * 4 + 0.3 * 8"
   ]
  },
  {
   "cell_type": "markdown",
   "metadata": {},
   "source": [
    "<p>Taking into consideration the relative frequency of the observations, there is no need to know the total number of items in advance.</p>\n",
    "<p>Using pure Python, you can get the same result using <code>sum()</code> with either <code>range()</code> or <code>zip()</code>:</p>"
   ]
  },
  {
   "cell_type": "code",
   "execution_count": 61,
   "metadata": {},
   "outputs": [
    {
     "data": {
      "text/plain": [
       "6.95"
      ]
     },
     "execution_count": 61,
     "metadata": {},
     "output_type": "execute_result"
    }
   ],
   "source": [
    "x = [8.0, 1, 2.5, 4, 28.0]\n",
    "w = [0.1, 0.2, 0.3, 0.25, 0.15]\n",
    "\n",
    "wmean = sum(w[i] * x[i] for i in range(len(x))) / sum(w)\n",
    "wmean"
   ]
  },
  {
   "cell_type": "code",
   "execution_count": 62,
   "metadata": {},
   "outputs": [
    {
     "data": {
      "text/plain": [
       "6.95"
      ]
     },
     "execution_count": 62,
     "metadata": {},
     "output_type": "execute_result"
    }
   ],
   "source": [
    "wmean = sum(x_ * w_ for (x_, w_) in zip(x, w)) / sum(w)\n",
    "wmean"
   ]
  },
  {
   "cell_type": "markdown",
   "metadata": {},
   "source": [
    "<p>When dealing with larger datasets, <code>np.average()</code> is the better choice either for NumPy arrays or Pandas Series."
   ]
  },
  {
   "cell_type": "code",
   "execution_count": 63,
   "metadata": {},
   "outputs": [
    {
     "data": {
      "text/plain": [
       "6.95"
      ]
     },
     "execution_count": 63,
     "metadata": {},
     "output_type": "execute_result"
    }
   ],
   "source": [
    "y, z, w = np.array(x), pd.Series(x), np.array(w)\n",
    "wmean = np.average(y, weights=w)\n",
    "wmean"
   ]
  },
  {
   "cell_type": "code",
   "execution_count": 64,
   "metadata": {},
   "outputs": [
    {
     "data": {
      "text/plain": [
       "6.95"
      ]
     },
     "execution_count": 64,
     "metadata": {},
     "output_type": "execute_result"
    }
   ],
   "source": [
    "wmean = np.average(z, weights=w)\n",
    "wmean"
   ]
  },
  {
   "cell_type": "markdown",
   "metadata": {},
   "source": [
    "<p>You can also use <code>w * y</code> with <code>np.sum()</code> or <code>.sum()</code>:</p>"
   ]
  },
  {
   "cell_type": "code",
   "execution_count": 65,
   "metadata": {},
   "outputs": [
    {
     "data": {
      "text/plain": [
       "6.95"
      ]
     },
     "execution_count": 65,
     "metadata": {},
     "output_type": "execute_result"
    }
   ],
   "source": [
    "(w * y).sum() / w.sum()"
   ]
  },
  {
   "cell_type": "markdown",
   "metadata": {},
   "source": [
    "You must be careful, however, if your dataset contains <code>nan</code> observations:"
   ]
  },
  {
   "cell_type": "code",
   "execution_count": 66,
   "metadata": {},
   "outputs": [
    {
     "data": {
      "text/plain": [
       "nan"
      ]
     },
     "execution_count": 66,
     "metadata": {},
     "output_type": "execute_result"
    }
   ],
   "source": [
    "w = np.array([0.1, 0.2, 0.3, 0.0, 0.2, 0.1])\n",
    "(w * y_with_nan).sum() / w.sum()"
   ]
  },
  {
   "cell_type": "code",
   "execution_count": 67,
   "metadata": {},
   "outputs": [
    {
     "data": {
      "text/plain": [
       "nan"
      ]
     },
     "execution_count": 67,
     "metadata": {},
     "output_type": "execute_result"
    }
   ],
   "source": [
    "np.average(y_with_nan, weights=w)"
   ]
  },
  {
   "cell_type": "code",
   "execution_count": 68,
   "metadata": {},
   "outputs": [
    {
     "data": {
      "text/plain": [
       "nan"
      ]
     },
     "execution_count": 68,
     "metadata": {},
     "output_type": "execute_result"
    }
   ],
   "source": [
    "np.average(z_with_nan, weights=w)"
   ]
  },
  {
   "cell_type": "markdown",
   "metadata": {},
   "source": [
    "<h4><b>4.1.3 Harmonic Mean</b></h4>\n",
    "<p> The <b>harmonic mean</b> is the reciprocal of the mean of all items in the dataset: <i>n / </i>&Sigma;<sub>i</sub>(1/<i>x</i><sub>i</sub>), where <i>i</i>=1,2,... <i>n</i> and <i>n</i> is the number of observations in the dataset <i>x</i>."
   ]
  },
  {
   "cell_type": "code",
   "execution_count": 69,
   "metadata": {},
   "outputs": [
    {
     "data": {
      "text/plain": [
       "2.7613412228796843"
      ]
     },
     "execution_count": 69,
     "metadata": {},
     "output_type": "execute_result"
    }
   ],
   "source": [
    "hmean = len(x) / sum(1 / item for item in x)\n",
    "hmean"
   ]
  },
  {
   "cell_type": "markdown",
   "metadata": {},
   "source": [
    "<p>You can achieve the same result with <code>statistics.harmonic_mean()</code>:</p>"
   ]
  },
  {
   "cell_type": "code",
   "execution_count": 70,
   "metadata": {},
   "outputs": [
    {
     "data": {
      "text/plain": [
       "2.7613412228796843"
      ]
     },
     "execution_count": 70,
     "metadata": {},
     "output_type": "execute_result"
    }
   ],
   "source": [
    "hmean = statistics.harmonic_mean(x)\n",
    "hmean"
   ]
  },
  {
   "cell_type": "markdown",
   "metadata": {},
   "source": [
    "<p>A dataset containing a <code>nan</code>, a 0, or  a negative number will produce different results:</p>"
   ]
  },
  {
   "cell_type": "code",
   "execution_count": 71,
   "metadata": {},
   "outputs": [
    {
     "data": {
      "text/plain": [
       "nan"
      ]
     },
     "execution_count": 71,
     "metadata": {},
     "output_type": "execute_result"
    }
   ],
   "source": [
    "statistics.harmonic_mean(x_with_nan)"
   ]
  },
  {
   "cell_type": "code",
   "execution_count": 72,
   "metadata": {},
   "outputs": [
    {
     "data": {
      "text/plain": [
       "0"
      ]
     },
     "execution_count": 72,
     "metadata": {},
     "output_type": "execute_result"
    }
   ],
   "source": [
    "statistics.harmonic_mean([1,0,2])"
   ]
  },
  {
   "cell_type": "code",
   "execution_count": null,
   "metadata": {},
   "outputs": [],
   "source": [
    "# Will raise a StatisticsError\n",
    "# statistics.harmonic_mean([1, 2, -2])"
   ]
  },
  {
   "cell_type": "markdown",
   "metadata": {},
   "source": [
    "<p>You can also use <code>scipy.stats.hmean()</code>:"
   ]
  },
  {
   "cell_type": "code",
   "execution_count": 74,
   "metadata": {},
   "outputs": [
    {
     "data": {
      "text/plain": [
       "2.7613412228796843"
      ]
     },
     "execution_count": 74,
     "metadata": {},
     "output_type": "execute_result"
    }
   ],
   "source": [
    "scipy.stats.hmean(y)"
   ]
  },
  {
   "cell_type": "code",
   "execution_count": 75,
   "metadata": {},
   "outputs": [
    {
     "data": {
      "text/plain": [
       "2.7613412228796843"
      ]
     },
     "execution_count": 75,
     "metadata": {},
     "output_type": "execute_result"
    }
   ],
   "source": [
    "scipy.stats.hmean(z)"
   ]
  },
  {
   "cell_type": "markdown",
   "metadata": {},
   "source": [
    "<h4><b>4.1.4 Geometric Mean</b></h4>\n",
    "<p>The <b>geometric mean</b> is represented by the <i>n</i>-th root of the product of all <i>n</i> elements <i>x</i><sub>i</sub> in a dataset <i>x</i>: <sup>n</sup>&radic;(&pi;<sub>i</sub><i>x</i><sub>i</sub>), in which <i>i</i> = 1,2,...,<i>i</i>.</p>\n",
    "<p>In pure Python, such mean can be implemented as it follows:</p>"
   ]
  },
  {
   "cell_type": "code",
   "execution_count": 76,
   "metadata": {},
   "outputs": [
    {
     "data": {
      "text/plain": [
       "4.677885674856041"
      ]
     },
     "execution_count": 76,
     "metadata": {},
     "output_type": "execute_result"
    }
   ],
   "source": [
    "gmean = 1\n",
    "for item in x:\n",
    "        gmean *= item\n",
    "        \n",
    "gmean **= 1 / len(x)\n",
    "gmean"
   ]
  },
  {
   "cell_type": "markdown",
   "metadata": {},
   "source": [
    "<p>You can also use <code>statistics.geometric_mean()</code> to return the same result.</p>"
   ]
  },
  {
   "cell_type": "code",
   "execution_count": 77,
   "metadata": {},
   "outputs": [
    {
     "data": {
      "text/plain": [
       "4.67788567485604"
      ]
     },
     "execution_count": 77,
     "metadata": {},
     "output_type": "execute_result"
    }
   ],
   "source": [
    "gmean = statistics.geometric_mean(x)\n",
    "gmean"
   ]
  },
  {
   "cell_type": "markdown",
   "metadata": {},
   "source": [
    "<p>As in previous cases, passing data with <code>nan</code> values will return <code>nan</code>."
   ]
  },
  {
   "cell_type": "code",
   "execution_count": 78,
   "metadata": {},
   "outputs": [
    {
     "data": {
      "text/plain": [
       "nan"
      ]
     },
     "execution_count": 78,
     "metadata": {},
     "output_type": "execute_result"
    }
   ],
   "source": [
    "gmean = statistics.geometric_mean(x_with_nan)\n",
    "gmean"
   ]
  },
  {
   "cell_type": "markdown",
   "metadata": {},
   "source": [
    "<p>You can also get the geometric mean with <code>scipy.stats.gmean()</code>:"
   ]
  },
  {
   "cell_type": "code",
   "execution_count": 79,
   "metadata": {},
   "outputs": [
    {
     "data": {
      "text/plain": [
       "4.67788567485604"
      ]
     },
     "execution_count": 79,
     "metadata": {},
     "output_type": "execute_result"
    }
   ],
   "source": [
    "scipy.stats.gmean(y)"
   ]
  },
  {
   "cell_type": "code",
   "execution_count": 80,
   "metadata": {},
   "outputs": [
    {
     "data": {
      "text/plain": [
       "4.67788567485604"
      ]
     },
     "execution_count": 80,
     "metadata": {},
     "output_type": "execute_result"
    }
   ],
   "source": [
    "scipy.stats.gmean(z)"
   ]
  },
  {
   "cell_type": "markdown",
   "metadata": {},
   "source": [
    "<h4><b>4.1.5 Median</b></h4>\n",
    "<p>The <b>sample median</b> represents the <b>middle element</b> of a sorted dataset. If the number of elements <i>n</i> of the dataset is <b>odd</b>, then the median is the value at the <b>middle position</b>: 0.5(<i>n</i> + 1). If <i>n</i> is <b>even</b>, then the median is the <b>arithmetic mean of the two values in the middle</b> - the items at the positions 0.5<i>n</i> and 0.5<i>n</i> + 1.</p>\n",
    "<p>The main difference between the mean and the median is related to <b>outliers/extremes</b>. While the former is heavily affected by outliers, the latter <b>is not</b>. By moving the value of the observation at the rightmost point we can see the effects:</p>\n",
    "<ul>\n",
    "    <li><b>If you increase the value (move it to the right)</b>, the mean will rise, but the <b>median</b> won't change.</li>\n",
    "    <li><b>If you decrease its value (move it to the left)</b>, the mean will drop, but the <b>median will remain the same</b> until the value of the point is <b>greater than or equal to 4</b>.\n",
    "</ul>\n",
    "<p>Comparing the mean and the median is a good way to detect outliers and skewness in your data.</p>\n",
    "<p>Let's see how we can get the median using pure Python:</p>"
   ]
  },
  {
   "cell_type": "code",
   "execution_count": 81,
   "metadata": {},
   "outputs": [
    {
     "data": {
      "text/plain": [
       "[8.0, 1, 2.5, 4, 28.0]"
      ]
     },
     "execution_count": 81,
     "metadata": {},
     "output_type": "execute_result"
    }
   ],
   "source": [
    "x"
   ]
  },
  {
   "cell_type": "code",
   "execution_count": 82,
   "metadata": {},
   "outputs": [
    {
     "data": {
      "text/plain": [
       "4"
      ]
     },
     "execution_count": 82,
     "metadata": {},
     "output_type": "execute_result"
    }
   ],
   "source": [
    "n = len(x)\n",
    "if n % 2:\n",
    "    median_ = sorted(x)[round(0.5*(n-1))]\n",
    "else:\n",
    "    x_ord, index = sorted(x), round(0.5 * n)\n",
    "    median_ = 0.5 * (x_ord[index-1] + x_ord[index])\n",
    "    \n",
    "median_"
   ]
  },
  {
   "cell_type": "markdown",
   "metadata": {},
   "source": [
    "<p> The two most relevant steps here are:</p>\n",
    "<ol>\n",
    "    <li>1. <b>Sorting</b> the elements</li>\n",
    "    <li>2. Finding the <b>middle element(s)</b></li>\n",
    "</ol>\n",
    "<p>You can also find the medium using <code>statistics.median()</code>:</p>"
   ]
  },
  {
   "cell_type": "code",
   "execution_count": 83,
   "metadata": {},
   "outputs": [
    {
     "data": {
      "text/plain": [
       "4"
      ]
     },
     "execution_count": 83,
     "metadata": {},
     "output_type": "execute_result"
    }
   ],
   "source": [
    "median_ = statistics.median(x)\n",
    "median_"
   ]
  },
  {
   "cell_type": "code",
   "execution_count": 84,
   "metadata": {},
   "outputs": [
    {
     "data": {
      "text/plain": [
       "3.25"
      ]
     },
     "execution_count": 84,
     "metadata": {},
     "output_type": "execute_result"
    }
   ],
   "source": [
    "median_ = statistics.median(x[:-1])\n",
    "median_"
   ]
  },
  {
   "cell_type": "markdown",
   "metadata": {},
   "source": [
    "<p>In the last example, <code>x[:-1]</code> represents the original dataset without the last item, that is, <code>28.0</code>. Since the dataset now is <code>[1, 2.5, 4, 8.0]</code> and now we have two middle elements, <code>2.5</code> and <code>4</code>, their average is <code>3.25</code>.</p>\n",
    "<p><code>median_low()</code> and <code>median_high()</code> are also related to the median in the <code>statistics</code> library. They will return an element from the dataset:\n",
    "<ul>\n",
    "    <li>If the number of the elements is <b>odd</b>, the function will behave just like <code>median()</code>.</li>\n",
    "    <li>If the number of elements is <b>even</b>, there are <b>two middle values</b>, which means that <code>median_low()</code> will return the lower, while <code>median_high()</code>, the higher middle value.</li></p>"
   ]
  },
  {
   "cell_type": "code",
   "execution_count": 85,
   "metadata": {},
   "outputs": [
    {
     "data": {
      "text/plain": [
       "2.5"
      ]
     },
     "execution_count": 85,
     "metadata": {},
     "output_type": "execute_result"
    }
   ],
   "source": [
    "statistics.median_low(x[:-1])"
   ]
  },
  {
   "cell_type": "code",
   "execution_count": 86,
   "metadata": {},
   "outputs": [
    {
     "data": {
      "text/plain": [
       "4"
      ]
     },
     "execution_count": 86,
     "metadata": {},
     "output_type": "execute_result"
    }
   ],
   "source": [
    "statistics.median_high(x[:-1])"
   ]
  },
  {
   "cell_type": "markdown",
   "metadata": {},
   "source": [
    "<p>Differently from other functions in this library, <code>medium</code> functions will <b>not</b> return <code>nan</code> when there are <code>nan</code> values in the dataset:</p>"
   ]
  },
  {
   "cell_type": "code",
   "execution_count": 87,
   "metadata": {},
   "outputs": [
    {
     "data": {
      "text/plain": [
       "6.0"
      ]
     },
     "execution_count": 87,
     "metadata": {},
     "output_type": "execute_result"
    }
   ],
   "source": [
    "statistics.median(x_with_nan)"
   ]
  },
  {
   "cell_type": "code",
   "execution_count": 88,
   "metadata": {},
   "outputs": [
    {
     "data": {
      "text/plain": [
       "4"
      ]
     },
     "execution_count": 88,
     "metadata": {},
     "output_type": "execute_result"
    }
   ],
   "source": [
    "statistics.median_low(x_with_nan)"
   ]
  },
  {
   "cell_type": "code",
   "execution_count": 89,
   "metadata": {},
   "outputs": [
    {
     "data": {
      "text/plain": [
       "8.0"
      ]
     },
     "execution_count": 89,
     "metadata": {},
     "output_type": "execute_result"
    }
   ],
   "source": [
    "statistics.median_high(x_with_nan)"
   ]
  },
  {
   "cell_type": "markdown",
   "metadata": {},
   "source": [
    "<p><code>np.median()</code> can also be used to achieve the same result:"
   ]
  },
  {
   "cell_type": "code",
   "execution_count": 90,
   "metadata": {},
   "outputs": [
    {
     "data": {
      "text/plain": [
       "4.0"
      ]
     },
     "execution_count": 90,
     "metadata": {},
     "output_type": "execute_result"
    }
   ],
   "source": [
    "median_ = np.median(y)\n",
    "median_"
   ]
  },
  {
   "cell_type": "code",
   "execution_count": 91,
   "metadata": {},
   "outputs": [
    {
     "data": {
      "text/plain": [
       "3.25"
      ]
     },
     "execution_count": 91,
     "metadata": {},
     "output_type": "execute_result"
    }
   ],
   "source": [
    "median_ = np.median(y[:-1])\n",
    "median_"
   ]
  },
  {
   "cell_type": "markdown",
   "metadata": {},
   "source": [
    "<p>It must be noted that in case there is a <code>nan</code> value in the dataset, <code>np.median</code> will issue a <code>RuntimeWarning</code> and return <code>nan</code>. Use <code>nanmedian()</code> to ignore <code>nan</code> values:</p>"
   ]
  },
  {
   "cell_type": "code",
   "execution_count": 92,
   "metadata": {},
   "outputs": [
    {
     "data": {
      "text/plain": [
       "4.0"
      ]
     },
     "execution_count": 92,
     "metadata": {},
     "output_type": "execute_result"
    }
   ],
   "source": [
    "np.nanmedian(y_with_nan)"
   ]
  },
  {
   "cell_type": "code",
   "execution_count": 93,
   "metadata": {},
   "outputs": [
    {
     "data": {
      "text/plain": [
       "3.25"
      ]
     },
     "execution_count": 93,
     "metadata": {},
     "output_type": "execute_result"
    }
   ],
   "source": [
    "np.nanmedian(y_with_nan[:-1])"
   ]
  },
  {
   "cell_type": "markdown",
   "metadata": {},
   "source": [
    "<p>Finally, Pandas <code>Series</code> have the metod <code>.median()</code> that, by default, ignores <code>nan</code> values:</p>"
   ]
  },
  {
   "cell_type": "code",
   "execution_count": 94,
   "metadata": {},
   "outputs": [
    {
     "data": {
      "text/plain": [
       "4.0"
      ]
     },
     "execution_count": 94,
     "metadata": {},
     "output_type": "execute_result"
    }
   ],
   "source": [
    "z.median()"
   ]
  },
  {
   "cell_type": "code",
   "execution_count": 95,
   "metadata": {},
   "outputs": [
    {
     "data": {
      "text/plain": [
       "4.0"
      ]
     },
     "execution_count": 95,
     "metadata": {},
     "output_type": "execute_result"
    }
   ],
   "source": [
    "z_with_nan.median()"
   ]
  },
  {
   "cell_type": "markdown",
   "metadata": {},
   "source": [
    "<p>Use <code>skipna=False</code> to change this behavior.</p>"
   ]
  },
  {
   "cell_type": "code",
   "execution_count": 96,
   "metadata": {},
   "outputs": [
    {
     "data": {
      "text/plain": [
       "2"
      ]
     },
     "execution_count": 96,
     "metadata": {},
     "output_type": "execute_result"
    }
   ],
   "source": [
    "u = [2, 3, 2, 8, 12]\n",
    "mode_ = max((u.count(item), item) for item in set(u))[1]\n",
    "mode_"
   ]
  },
  {
   "cell_type": "markdown",
   "metadata": {},
   "source": [
    "<p>You can also use <code>statistics.mode()</code> and <code>statistics.multimode()</code>.</p>"
   ]
  },
  {
   "cell_type": "code",
   "execution_count": 97,
   "metadata": {},
   "outputs": [
    {
     "data": {
      "text/plain": [
       "2"
      ]
     },
     "execution_count": 97,
     "metadata": {},
     "output_type": "execute_result"
    }
   ],
   "source": [
    "mode_ = statistics.mode(u)\n",
    "mode_"
   ]
  },
  {
   "cell_type": "code",
   "execution_count": 98,
   "metadata": {},
   "outputs": [
    {
     "data": {
      "text/plain": [
       "[2]"
      ]
     },
     "execution_count": 98,
     "metadata": {},
     "output_type": "execute_result"
    }
   ],
   "source": [
    "mode_ = statistics.multimode(u)\n",
    "mode_"
   ]
  },
  {
   "cell_type": "markdown",
   "metadata": {},
   "source": [
    "<p><code>statistics.multimode()</code> returns a list containing the result. If there is more than one modal value, <code>mode()</code> will return the first one encountered, while <code>multimode</code> will return the list with all modes:</p>"
   ]
  },
  {
   "cell_type": "code",
   "execution_count": 99,
   "metadata": {},
   "outputs": [
    {
     "data": {
      "text/plain": [
       "12"
      ]
     },
     "execution_count": 99,
     "metadata": {},
     "output_type": "execute_result"
    }
   ],
   "source": [
    "v = [12, 15, 12, 15, 21, 15, 12]\n",
    "statistics.mode(v) # Will return 12, as it is the first one encountered"
   ]
  },
  {
   "cell_type": "code",
   "execution_count": 100,
   "metadata": {},
   "outputs": [
    {
     "data": {
      "text/plain": [
       "[12, 15]"
      ]
     },
     "execution_count": 100,
     "metadata": {},
     "output_type": "execute_result"
    }
   ],
   "source": [
    "statistics.multimode(v)"
   ]
  },
  {
   "cell_type": "markdown",
   "metadata": {},
   "source": [
    "<p>Both functions can handle <code>nan</code> values and return <code>nan</code> if that is the case (including the modal value):</p>"
   ]
  },
  {
   "cell_type": "code",
   "execution_count": 101,
   "metadata": {},
   "outputs": [
    {
     "data": {
      "text/plain": [
       "2"
      ]
     },
     "execution_count": 101,
     "metadata": {},
     "output_type": "execute_result"
    }
   ],
   "source": [
    "statistics.mode([2, math.nan, 2])"
   ]
  },
  {
   "cell_type": "code",
   "execution_count": 102,
   "metadata": {},
   "outputs": [
    {
     "data": {
      "text/plain": [
       "[2]"
      ]
     },
     "execution_count": 102,
     "metadata": {},
     "output_type": "execute_result"
    }
   ],
   "source": [
    "statistics.multimode([2, math.nan, 2])"
   ]
  },
  {
   "cell_type": "code",
   "execution_count": 103,
   "metadata": {},
   "outputs": [
    {
     "data": {
      "text/plain": [
       "nan"
      ]
     },
     "execution_count": 103,
     "metadata": {},
     "output_type": "execute_result"
    }
   ],
   "source": [
    "statistics.mode([2, math.nan, 0, math.nan, 5])"
   ]
  },
  {
   "cell_type": "code",
   "execution_count": 104,
   "metadata": {},
   "outputs": [
    {
     "data": {
      "text/plain": [
       "[nan]"
      ]
     },
     "execution_count": 104,
     "metadata": {},
     "output_type": "execute_result"
    }
   ],
   "source": [
    "statistics.multimode([2, math.nan, 0, math.nan, 5])"
   ]
  },
  {
   "cell_type": "markdown",
   "metadata": {},
   "source": [
    "<p>You can also get the mode with <code>scipy.stats.mode()</code>:</p>"
   ]
  },
  {
   "cell_type": "code",
   "execution_count": 106,
   "metadata": {},
   "outputs": [
    {
     "data": {
      "text/plain": [
       "ModeResult(mode=array([2]), count=array([2]))"
      ]
     },
     "execution_count": 106,
     "metadata": {},
     "output_type": "execute_result"
    }
   ],
   "source": [
    "u, v = np.array(u), np.array(v)\n",
    "mode_ = scipy.stats.mode(u, keepdims=True)\n",
    "mode_"
   ]
  },
  {
   "cell_type": "code",
   "execution_count": 108,
   "metadata": {},
   "outputs": [
    {
     "data": {
      "text/plain": [
       "ModeResult(mode=array([12]), count=array([3]))"
      ]
     },
     "execution_count": 108,
     "metadata": {},
     "output_type": "execute_result"
    }
   ],
   "source": [
    "mode_ = scipy.stats.mode(v, keepdims=True)\n",
    "mode_"
   ]
  },
  {
   "cell_type": "markdown",
   "metadata": {},
   "source": [
    "<code>scipy.stats.mode()</code> returns the object with the modal value and its frequency. In case of many modal values, only the <b>smallest</b> value is returned.</p>\n",
    "<p>NumPy also has inbuilt functions:</p>"
   ]
  },
  {
   "cell_type": "code",
   "execution_count": 109,
   "metadata": {},
   "outputs": [
    {
     "data": {
      "text/plain": [
       "array([12])"
      ]
     },
     "execution_count": 109,
     "metadata": {},
     "output_type": "execute_result"
    }
   ],
   "source": [
    "mode_.mode"
   ]
  },
  {
   "cell_type": "code",
   "execution_count": 110,
   "metadata": {},
   "outputs": [
    {
     "data": {
      "text/plain": [
       "array([3])"
      ]
     },
     "execution_count": 110,
     "metadata": {},
     "output_type": "execute_result"
    }
   ],
   "source": [
    "mode_.count"
   ]
  },
  {
   "cell_type": "markdown",
   "metadata": {},
   "source": [
    "<p><code>scipy.stats.mode</code> can also handle <code>nan</code> values. You just need to define the desired behavior with the optional parameter <code>nan_policy</code> (choose between <code>'propagate'</code>, <code>'raise'</code>, or <code>'omit'</code>).</p>\n",
    "<p>Pandas <code>Series</code> objects have the method <code>.mode()</code>, which handles multimodal values and ignores <code>nan</code> values by default:</p>"
   ]
  },
  {
   "cell_type": "code",
   "execution_count": 111,
   "metadata": {},
   "outputs": [
    {
     "data": {
      "text/plain": [
       "0    2\n",
       "dtype: int32"
      ]
     },
     "execution_count": 111,
     "metadata": {},
     "output_type": "execute_result"
    }
   ],
   "source": [
    "u, v, w = pd.Series(u), pd.Series(v), pd.Series([2, 2, math.nan, ])\n",
    "u.mode()"
   ]
  },
  {
   "cell_type": "code",
   "execution_count": 112,
   "metadata": {},
   "outputs": [
    {
     "data": {
      "text/plain": [
       "0    12\n",
       "1    15\n",
       "dtype: int32"
      ]
     },
     "execution_count": 112,
     "metadata": {},
     "output_type": "execute_result"
    }
   ],
   "source": [
    "v.mode()"
   ]
  },
  {
   "cell_type": "code",
   "execution_count": 113,
   "metadata": {},
   "outputs": [
    {
     "data": {
      "text/plain": [
       "0    2.0\n",
       "dtype: float64"
      ]
     },
     "execution_count": 113,
     "metadata": {},
     "output_type": "execute_result"
    }
   ],
   "source": [
    "w.mode()"
   ]
  },
  {
   "cell_type": "code",
   "execution_count": 114,
   "metadata": {},
   "outputs": [
    {
     "data": {
      "text/plain": [
       "0    2.0\n",
       "dtype: float64"
      ]
     },
     "execution_count": 114,
     "metadata": {},
     "output_type": "execute_result"
    }
   ],
   "source": [
    "# Pass the argument dropna=False to include nan values\n",
    "w.mode(dropna=False)"
   ]
  },
  {
   "cell_type": "markdown",
   "metadata": {},
   "source": [
    "<h3><b>4.2 Measures of Variability</b></h3>\n",
    "<p>Measures of variability <b>quantify</b> the <b>spread of data points</b>.</p>\n",
    "<h4><b>4.2.1 Variance</b></h4>\n",
    "<p>The <b>sample variance</b> quantifies the <b>spread</b> of data. With it, you can measure how far the data points are from the mean. Given a dataset <i>x</i> with <i>n</i> elements, its formula is expressed as:</p>\n",
    "    <p><t><i>s</i><sup>2</sup> = &Sigma;<sub>i</sub>(<i>x</i><sub>i</sub> - mean(<i>x</i>))<sup>2</sup> / (<i>n</i> - 1)</p>\n",
    "<p>where <i>i</i> = 1,2,...,<i>n</i> and mean(<i>x</i>) is the sample mean of <i>x</i>.</p>\n",
    "<p>With pure Python, you can get the sample variance as it follows:</p>"
   ]
  },
  {
   "cell_type": "code",
   "execution_count": 117,
   "metadata": {},
   "outputs": [
    {
     "data": {
      "text/plain": [
       "[8.0, 1, 2.5, 4, 28.0]"
      ]
     },
     "execution_count": 117,
     "metadata": {},
     "output_type": "execute_result"
    }
   ],
   "source": [
    "x"
   ]
  },
  {
   "cell_type": "code",
   "execution_count": 116,
   "metadata": {},
   "outputs": [
    {
     "data": {
      "text/plain": [
       "123.19999999999999"
      ]
     },
     "execution_count": 116,
     "metadata": {},
     "output_type": "execute_result"
    }
   ],
   "source": [
    "n = len(x)\n",
    "mean_ = sum(x) / n\n",
    "var_ = sum((item - mean_)**2 for item in x) / (n -1)\n",
    "var_"
   ]
  },
  {
   "cell_type": "markdown",
   "metadata": {},
   "source": [
    "<p><code>statistics.variance(x)</code> is an alternative, shorter way to get the sample variance:</p>"
   ]
  },
  {
   "cell_type": "code",
   "execution_count": 120,
   "metadata": {},
   "outputs": [
    {
     "data": {
      "text/plain": [
       "123.2"
      ]
     },
     "execution_count": 120,
     "metadata": {},
     "output_type": "execute_result"
    }
   ],
   "source": [
    "var_ = statistics.variance(x)\n",
    "var_"
   ]
  },
  {
   "cell_type": "markdown",
   "metadata": {},
   "source": [
    "<p>In case there are <code>nan</code> values in your dataset, <code>statistics.variance()</code> will raise <code>Value Error</code>:</p>"
   ]
  },
  {
   "cell_type": "code",
   "execution_count": 123,
   "metadata": {},
   "outputs": [],
   "source": [
    "# var_ = statistics.variance(x_with_nan) "
   ]
  },
  {
   "cell_type": "markdown",
   "metadata": {},
   "source": [
    "<p>You can also use NumPy's <code>np.var()</code> function or the method <code>.var()</code>:</p> "
   ]
  },
  {
   "cell_type": "code",
   "execution_count": 124,
   "metadata": {},
   "outputs": [
    {
     "data": {
      "text/plain": [
       "123.19999999999999"
      ]
     },
     "execution_count": 124,
     "metadata": {},
     "output_type": "execute_result"
    }
   ],
   "source": [
    "var_ = np.var(y, ddof=1)\n",
    "var_"
   ]
  },
  {
   "cell_type": "code",
   "execution_count": 125,
   "metadata": {},
   "outputs": [
    {
     "data": {
      "text/plain": [
       "123.19999999999999"
      ]
     },
     "execution_count": 125,
     "metadata": {},
     "output_type": "execute_result"
    }
   ],
   "source": [
    "var_ = y.var(ddof=1)\n",
    "var_"
   ]
  },
  {
   "cell_type": "markdown",
   "metadata": {},
   "source": [
    "<p>In this case, it's very important to specify the parameter <code>ddof=1</code>, which sets the <b>delta degrees of freedom</b> to 1; otherwise, the denominator will remain <i>n</i> instead of (<i>n</i> - 1).</code></p>\n",
    "<p>The occurrence of <code>nan</code> values will return a <code>nan</code> result:</p>"
   ]
  },
  {
   "cell_type": "code",
   "execution_count": 127,
   "metadata": {},
   "outputs": [
    {
     "data": {
      "text/plain": [
       "nan"
      ]
     },
     "execution_count": 127,
     "metadata": {},
     "output_type": "execute_result"
    }
   ],
   "source": [
    "np.var(y_with_nan, ddof=1)"
   ]
  },
  {
   "cell_type": "code",
   "execution_count": 128,
   "metadata": {},
   "outputs": [
    {
     "data": {
      "text/plain": [
       "nan"
      ]
     },
     "execution_count": 128,
     "metadata": {},
     "output_type": "execute_result"
    }
   ],
   "source": [
    "y_with_nan.var(ddof=1)"
   ]
  },
  {
   "cell_type": "markdown",
   "metadata": {},
   "source": [
    "<p>Use <code>np.nanvar()</code> to skip <code>nan</code> values:</p>"
   ]
  },
  {
   "cell_type": "code",
   "execution_count": 129,
   "metadata": {},
   "outputs": [
    {
     "data": {
      "text/plain": [
       "123.19999999999999"
      ]
     },
     "execution_count": 129,
     "metadata": {},
     "output_type": "execute_result"
    }
   ],
   "source": [
    "np.nanvar(y_with_nan, ddof=1)"
   ]
  },
  {
   "cell_type": "markdown",
   "metadata": {},
   "source": [
    "<p><code>pd.Series</code> objects also have the method <code>.var()</code> that skips <code>nan</code> values by default. It also has the parameter <code>ddof</code> set at 1 by default. Use <code>skipna</code> to change its behavior towards <code>nan</code> values.</p>"
   ]
  },
  {
   "cell_type": "markdown",
   "metadata": {},
   "source": [
    "<p>To calculate the <b>population variance</b>, you must change the denominator of the formula to <i>n</i>. Follow the following steps:</p>\n",
    "<ul>\n",
    "    <li>Pure Python - replace (<i>n</i> - 1)</li>\n",
    "    <li><code>statistics</code> - use <code>statistics.pvariance()</code></li>\n",
    "    <li>NumPy or Pandas - specify the parameter <code>ddof=0</code>. In NumPY, the default value is 0.</li>\n",
    "</ul>\n"
   ]
  },
  {
   "cell_type": "code",
   "execution_count": null,
   "metadata": {},
   "outputs": [],
   "source": []
  }
 ],
 "metadata": {
  "kernelspec": {
   "display_name": "Python 3.10.3 ('math_data_science': venv)",
   "language": "python",
   "name": "python3"
  },
  "language_info": {
   "codemirror_mode": {
    "name": "ipython",
    "version": 3
   },
   "file_extension": ".py",
   "mimetype": "text/x-python",
   "name": "python",
   "nbconvert_exporter": "python",
   "pygments_lexer": "ipython3",
   "version": "3.10.3"
  },
  "orig_nbformat": 4,
  "vscode": {
   "interpreter": {
    "hash": "0bffc8e26a5df004991df16d9dc6b2a922ee9b846ba9a4aa439462c305400862"
   }
  }
 },
 "nbformat": 4,
 "nbformat_minor": 2
}
