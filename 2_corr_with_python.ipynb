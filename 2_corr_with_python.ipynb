{
 "cells": [
  {
   "cell_type": "markdown",
   "metadata": {},
   "source": [
    "<h1><b>NumPy, SciPy, and Pandas: Correlation With Python</b></h1>\n",
    "<h2><b>1.Introduction</b></h2>\n",
    "<p>This is the second lesson out of five from Real Python's learning path on math for DS. I'll be dealing with available tools for measuring correlation with Python. In case anyone is interested, follow this <a href='https://realpython.com/numpy-scipy-pandas-correlation-python/'>link</a> to get the entire content. Thanks once again for the whole Real Python team - specially, in this case, <a href='https://realpython.com/team/mstojiljkovic/'>Mirko Stojiljković</a> for this course!</p>\n",
    "<p>This notebook will cover the following <b>objectives</b>:</p>\n",
    "<ul>\n",
    "    <li>What Pearson, Spearman, and Kendall correlation coefficients are</li>\n",
    "    <li>How to use SciPy, NumPy, and Pandas correlation functions</li>\n",
    "    <li>How to visualize data, regression lines, and correlation matrices with Matplotlib</li>\n",
    "</ul>\n",
    "<hr>\n",
    "<h2><b>2. Correlation</b></h2>\n",
    "<p>This notebook will deal with three different statistics that are applied to quantify correlation. They are:</p>\n",
    "<ul>\n",
    "<li>Pearson's <code>r</code></li>\n",
    "<li>Spearman's <code>rho</code></li>\n",
    "<li>Kendall's <code>tau</code></li>\n",
    "</ul>\n",
    "While Pearson's coeffiecient measures <strong>linear correlation</strong>, the following two compare <strong>ranks</strong> of data.</p>\n",
    "<h2><b>3. Example - NumPy Correlation Calculation</b></h2>\n",
    "<p>After importing NumPy and defining two arrays, we can use <code>np.corrcoef()</code> to get a matrix of <strong>Pearson correlation coefficients</code>.</p>\n",
    "\n"
   ]
  },
  {
   "cell_type": "code",
   "execution_count": 1,
   "metadata": {},
   "outputs": [],
   "source": [
    "import numpy as np"
   ]
  },
  {
   "cell_type": "code",
   "execution_count": 2,
   "metadata": {},
   "outputs": [
    {
     "data": {
      "text/plain": [
       "array([10, 11, 12, 13, 14, 15, 16, 17, 18, 19])"
      ]
     },
     "execution_count": 2,
     "metadata": {},
     "output_type": "execute_result"
    }
   ],
   "source": [
    "x = np.arange(10, 20)\n",
    "x"
   ]
  },
  {
   "cell_type": "code",
   "execution_count": 3,
   "metadata": {},
   "outputs": [
    {
     "data": {
      "text/plain": [
       "array([ 2,  1,  4,  5,  8, 12, 18, 25, 96, 48])"
      ]
     },
     "execution_count": 3,
     "metadata": {},
     "output_type": "execute_result"
    }
   ],
   "source": [
    "y = np.array([2, 1, 4, 5, 8, 12, 18, 25, 96, 48])\n",
    "y"
   ]
  },
  {
   "cell_type": "markdown",
   "metadata": {},
   "source": [
    "<p><code>np.arange()</code> creates an array of <code>x</code> integers between 10(inclusive) and 20(<strong>exclusive</strong>). We can no apply <code>np.corrcoef()</code> using these two arrays as arguments:</p>"
   ]
  },
  {
   "cell_type": "code",
   "execution_count": 22,
   "metadata": {},
   "outputs": [],
   "source": [
    "r = np.corrcoef(x, y)\n",
    "r = np.around(r, 2)"
   ]
  },
  {
   "cell_type": "code",
   "execution_count": 23,
   "metadata": {},
   "outputs": [
    {
     "name": "stdout",
     "output_type": "stream",
     "text": [
      "0.76\n"
     ]
    }
   ],
   "source": [
    "print(r[0, 1])"
   ]
  },
  {
   "cell_type": "code",
   "execution_count": 25,
   "metadata": {},
   "outputs": [
    {
     "name": "stdout",
     "output_type": "stream",
     "text": [
      "0.76\n"
     ]
    }
   ],
   "source": [
    "print(r[1, 0])"
   ]
  },
  {
   "cell_type": "markdown",
   "metadata": {},
   "source": [
    "<p>As we can see, the Pearson correlation coefficient is around <strong>0.76</strong>, which displays a positive, somewhat strong correlation between variables.</p>\n",
    "<hr>\n",
    "<h2><b>4. Example: SciPy Correlation Calculation</b></h2>\n",
    "<p>When using <strong>SciPy</strong>, <code>scipy.stats</code> contains  three different methods to calculate the three coefficients that we saw earlier:</p>\n",
    "<ul>\n",
    "<li><code>pearsonr()</code></li>\n",
    "<li><code>spearmanr()</code></li>\n",
    "<li><code>kendalltau()</code></li>\n",
    "</ul>\n",
    "<p>Let's take a look at these functions:</p>\n"
   ]
  },
  {
   "cell_type": "code",
   "execution_count": 26,
   "metadata": {},
   "outputs": [],
   "source": [
    "import scipy.stats\n"
   ]
  },
  {
   "cell_type": "code",
   "execution_count": 27,
   "metadata": {},
   "outputs": [
    {
     "data": {
      "text/plain": [
       "PearsonRResult(statistic=0.758640289091187, pvalue=0.010964341301680813)"
      ]
     },
     "execution_count": 27,
     "metadata": {},
     "output_type": "execute_result"
    }
   ],
   "source": [
    "scipy.stats.pearsonr(x, y)"
   ]
  },
  {
   "cell_type": "code",
   "execution_count": 28,
   "metadata": {},
   "outputs": [
    {
     "data": {
      "text/plain": [
       "SpearmanrResult(correlation=0.9757575757575757, pvalue=1.4675461874042197e-06)"
      ]
     },
     "execution_count": 28,
     "metadata": {},
     "output_type": "execute_result"
    }
   ],
   "source": [
    "scipy.stats.spearmanr(x, y)"
   ]
  },
  {
   "cell_type": "code",
   "execution_count": 29,
   "metadata": {},
   "outputs": [
    {
     "data": {
      "text/plain": [
       "KendalltauResult(correlation=0.911111111111111, pvalue=2.9761904761904762e-05)"
      ]
     },
     "execution_count": 29,
     "metadata": {},
     "output_type": "execute_result"
    }
   ],
   "source": [
    "scipy.stats.kendalltau(x, y)"
   ]
  },
  {
   "cell_type": "markdown",
   "metadata": {},
   "source": [
    "<p>It is interesting to notice that these functions return <strong>two values</strong>: the correlation coefficient <i>and</i> the <strong>p-value</strong>."
   ]
  },
  {
   "cell_type": "code",
   "execution_count": null,
   "metadata": {},
   "outputs": [],
   "source": []
  }
 ],
 "metadata": {
  "kernelspec": {
   "display_name": "Python 3.10.3 ('math_data_science': venv)",
   "language": "python",
   "name": "python3"
  },
  "language_info": {
   "codemirror_mode": {
    "name": "ipython",
    "version": 3
   },
   "file_extension": ".py",
   "mimetype": "text/x-python",
   "name": "python",
   "nbconvert_exporter": "python",
   "pygments_lexer": "ipython3",
   "version": "3.10.3"
  },
  "orig_nbformat": 4,
  "vscode": {
   "interpreter": {
    "hash": "0bffc8e26a5df004991df16d9dc6b2a922ee9b846ba9a4aa439462c305400862"
   }
  }
 },
 "nbformat": 4,
 "nbformat_minor": 2
}
